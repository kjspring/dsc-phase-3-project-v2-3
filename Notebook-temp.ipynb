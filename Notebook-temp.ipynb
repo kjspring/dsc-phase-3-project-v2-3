{
 "cells": [
  {
   "cell_type": "code",
   "execution_count": 51,
   "id": "8c1c45c9",
   "metadata": {},
   "outputs": [],
   "source": [
    "# Data import using OHE and pipelines\n",
    "\n",
    "# Import the data\n",
    "\n",
    "import pandas as pd\n",
    "\n",
    "data_features = pd.read_csv('data/training_set_features.csv') # predictors\n",
    "data_target = pd.read_csv('data/training_set_labels.csv') # target\n",
    "\n",
    "# Remove unnecessary or redundant variables\n",
    "data_features.drop(['respondent_id'], axis=1, inplace=True)\n",
    "data_target.drop(['respondent_id', 'h1n1_vaccine'], axis=1, inplace=True)\n",
    "\n",
    "# merge both datasets\n",
    "df = pd.concat([data_features, data_target], axis=1)"
   ]
  },
  {
   "cell_type": "code",
   "execution_count": 52,
   "id": "4df0fd3e",
   "metadata": {},
   "outputs": [
    {
     "name": "stdout",
     "output_type": "stream",
     "text": [
      "<class 'pandas.core.frame.DataFrame'>\n",
      "RangeIndex: 26707 entries, 0 to 26706\n",
      "Data columns (total 36 columns):\n",
      " #   Column                       Non-Null Count  Dtype \n",
      "---  ------                       --------------  ----- \n",
      " 0   h1n1_concern                 26615 non-null  Int64 \n",
      " 1   h1n1_knowledge               26591 non-null  Int64 \n",
      " 2   behavioral_antiviral_meds    26636 non-null  Int64 \n",
      " 3   behavioral_avoidance         26499 non-null  Int64 \n",
      " 4   behavioral_face_mask         26688 non-null  Int64 \n",
      " 5   behavioral_wash_hands        26665 non-null  Int64 \n",
      " 6   behavioral_large_gatherings  26620 non-null  Int64 \n",
      " 7   behavioral_outside_home      26625 non-null  Int64 \n",
      " 8   behavioral_touch_face        26579 non-null  Int64 \n",
      " 9   doctor_recc_h1n1             24547 non-null  Int64 \n",
      " 10  doctor_recc_seasonal         24547 non-null  Int64 \n",
      " 11  chronic_med_condition        25736 non-null  Int64 \n",
      " 12  child_under_6_months         25887 non-null  Int64 \n",
      " 13  health_worker                25903 non-null  Int64 \n",
      " 14  health_insurance             14433 non-null  Int64 \n",
      " 15  opinion_h1n1_vacc_effective  26316 non-null  Int64 \n",
      " 16  opinion_h1n1_risk            26319 non-null  Int64 \n",
      " 17  opinion_h1n1_sick_from_vacc  26312 non-null  Int64 \n",
      " 18  opinion_seas_vacc_effective  26245 non-null  Int64 \n",
      " 19  opinion_seas_risk            26193 non-null  Int64 \n",
      " 20  opinion_seas_sick_from_vacc  26170 non-null  Int64 \n",
      " 21  age_group                    26707 non-null  string\n",
      " 22  education                    25300 non-null  string\n",
      " 23  race                         26707 non-null  string\n",
      " 24  sex                          26707 non-null  string\n",
      " 25  income_poverty               22284 non-null  string\n",
      " 26  marital_status               25299 non-null  string\n",
      " 27  rent_or_own                  24665 non-null  string\n",
      " 28  employment_status            25244 non-null  string\n",
      " 29  hhs_geo_region               26707 non-null  string\n",
      " 30  census_msa                   26707 non-null  string\n",
      " 31  household_adults             26458 non-null  Int64 \n",
      " 32  household_children           26458 non-null  Int64 \n",
      " 33  employment_industry          13377 non-null  string\n",
      " 34  employment_occupation        13237 non-null  string\n",
      " 35  seasonal_vaccine             26707 non-null  Int64 \n",
      "dtypes: Int64(24), string(12)\n",
      "memory usage: 7.9 MB\n"
     ]
    }
   ],
   "source": [
    "# Convert all float datatype to int\n",
    "data = df.convert_dtypes()\n",
    "\n",
    "data.info()"
   ]
  },
  {
   "cell_type": "code",
   "execution_count": 53,
   "id": "d815c8d5",
   "metadata": {},
   "outputs": [
    {
     "data": {
      "text/plain": [
       "'\\nThe categorical data type is useful in the following cases:\\n\\n- A string variable consisting of only a few different values. \\nConverting such a string variable to a categorical variable will save some memory, see here.\\n- The lexical order of a variable is not the same as the logical order (“one”, “two”, “three”). \\nBy converting to a categorical and specifying an order on the categories, sorting and min/max \\nwill use the logical order instead of the lexical order, see here. \\n- As a signal to other Python libraries that this column should be treated as a categorical \\nvariable (e.g. to use suitable statistical methods or plot types).\\n'"
      ]
     },
     "execution_count": 53,
     "metadata": {},
     "output_type": "execute_result"
    }
   ],
   "source": [
    "# Convert all to category\n",
    "'''\n",
    "The categorical data type is useful in the following cases:\n",
    "\n",
    "- A string variable consisting of only a few different values. \n",
    "Converting such a string variable to a categorical variable will save some memory, see here.\n",
    "- The lexical order of a variable is not the same as the logical order (“one”, “two”, “three”). \n",
    "By converting to a categorical and specifying an order on the categories, sorting and min/max \n",
    "will use the logical order instead of the lexical order, see here. \n",
    "- As a signal to other Python libraries that this column should be treated as a categorical \n",
    "variable (e.g. to use suitable statistical methods or plot types).\n",
    "'''\n",
    "#data[data.columns] = data[data.columns].astype('category')\n",
    "#data.info()"
   ]
  },
  {
   "cell_type": "code",
   "execution_count": 56,
   "id": "0aaa73e7",
   "metadata": {},
   "outputs": [
    {
     "data": {
      "text/plain": [
       "0    18672\n",
       "1     3175\n",
       "2     2864\n",
       "3     1747\n",
       "Name: household_children, dtype: Int64"
      ]
     },
     "execution_count": 56,
     "metadata": {},
     "output_type": "execute_result"
    }
   ],
   "source": [
    "data['household_children'].value_counts()"
   ]
  },
  {
   "cell_type": "code",
   "execution_count": 57,
   "id": "cfa06655",
   "metadata": {},
   "outputs": [],
   "source": [
    "# Missing values\n",
    "# Convert all na to 'is_na'\n",
    "#data.fillna(value='is_na', inplace=True)\n",
    "#data.isna().sum()"
   ]
  },
  {
   "cell_type": "code",
   "execution_count": 72,
   "id": "6b696b2f",
   "metadata": {},
   "outputs": [],
   "source": [
    "from sklearn.model_selection import train_test_split\n",
    "\n",
    "# Set X and y variables\n",
    "y = df['seasonal_vaccine'] # target\n",
    "X = df.drop('seasonal_vaccine', axis=1) # features\n",
    "\n",
    "SEED = 42\n",
    "X_train, X_test, y_train, y_test = train_test_split(X, \n",
    "                                                    y, \n",
    "                                                    test_size=0.25, \n",
    "                                                    random_state=SEED)\n",
    "\n",
    "\n"
   ]
  },
  {
   "cell_type": "code",
   "execution_count": 75,
   "id": "c066c799",
   "metadata": {},
   "outputs": [],
   "source": [
    "# import OneHotEncoder\n",
    "from sklearn.preprocessing import OneHotEncoder\n",
    "\n",
    "# Initialize\n",
    "ohe = OneHotEncoder(drop='first')\n",
    "# fit encoder on X data\n",
    "ohe.fit(X_train)\n",
    "X_train_ohe = ohe.transform(X_train).toarray()\n",
    "\n",
    "# Dataframe to visualize\n",
    "X_train_ohe_df = pd.DataFrame(X_train_ohe, columns=ohe.get_feature_names(X_train.columns))"
   ]
  },
  {
   "cell_type": "code",
   "execution_count": 76,
   "id": "a06f1649",
   "metadata": {},
   "outputs": [
    {
     "name": "stdout",
     "output_type": "stream",
     "text": [
      "Mean Cross Validation Score: 68.63%\n"
     ]
    }
   ],
   "source": [
    "# Decision Tree\n",
    "# Modeling\n",
    "# Base model: Decision Tree\n",
    "from sklearn import tree\n",
    "from sklearn import metrics\n",
    "from sklearn.model_selection import cross_val_score\n",
    "\n",
    "clf_dt = tree.DecisionTreeClassifier(criterion='entropy')\n",
    "dt_cv_score = cross_val_score(clf_dt, X_train_ohe_df, y_train, cv=5)\n",
    "mean_dt_cv_score = dt_cv_score.mean()\n",
    "\n",
    "print(f'Mean Cross Validation Score: {mean_dt_cv_score:.2%}')"
   ]
  },
  {
   "cell_type": "code",
   "execution_count": 77,
   "id": "88fa8136",
   "metadata": {},
   "outputs": [
    {
     "name": "stdout",
     "output_type": "stream",
     "text": [
      "<class 'pandas.core.frame.DataFrame'>\n",
      "RangeIndex: 20030 entries, 0 to 20029\n",
      "Columns: 148 entries, h1n1_concern_1.0 to employment_occupation_nan\n",
      "dtypes: float64(148)\n",
      "memory usage: 22.6 MB\n"
     ]
    }
   ],
   "source": [
    "X_train_ohe_df.info()"
   ]
  },
  {
   "cell_type": "code",
   "execution_count": 78,
   "id": "7f398a2a",
   "metadata": {},
   "outputs": [
    {
     "name": "stdout",
     "output_type": "stream",
     "text": [
      "h1n1_concern_1.0\n",
      "h1n1_concern_2.0\n",
      "h1n1_concern_3.0\n",
      "h1n1_concern_nan\n",
      "h1n1_knowledge_1.0\n",
      "h1n1_knowledge_2.0\n",
      "h1n1_knowledge_nan\n",
      "behavioral_antiviral_meds_1.0\n",
      "behavioral_antiviral_meds_nan\n",
      "behavioral_avoidance_1.0\n",
      "behavioral_avoidance_nan\n",
      "behavioral_face_mask_1.0\n",
      "behavioral_face_mask_nan\n",
      "behavioral_wash_hands_1.0\n",
      "behavioral_wash_hands_nan\n",
      "behavioral_large_gatherings_1.0\n",
      "behavioral_large_gatherings_nan\n",
      "behavioral_outside_home_1.0\n",
      "behavioral_outside_home_nan\n",
      "behavioral_touch_face_1.0\n",
      "behavioral_touch_face_nan\n",
      "doctor_recc_h1n1_1.0\n",
      "doctor_recc_h1n1_nan\n",
      "doctor_recc_seasonal_1.0\n",
      "doctor_recc_seasonal_nan\n",
      "chronic_med_condition_1.0\n",
      "chronic_med_condition_nan\n",
      "child_under_6_months_1.0\n",
      "child_under_6_months_nan\n",
      "health_worker_1.0\n",
      "health_worker_nan\n",
      "health_insurance_1.0\n",
      "health_insurance_nan\n",
      "opinion_h1n1_vacc_effective_2.0\n",
      "opinion_h1n1_vacc_effective_3.0\n",
      "opinion_h1n1_vacc_effective_4.0\n",
      "opinion_h1n1_vacc_effective_5.0\n",
      "opinion_h1n1_vacc_effective_nan\n",
      "opinion_h1n1_risk_2.0\n",
      "opinion_h1n1_risk_3.0\n",
      "opinion_h1n1_risk_4.0\n",
      "opinion_h1n1_risk_5.0\n",
      "opinion_h1n1_risk_nan\n",
      "opinion_h1n1_sick_from_vacc_2.0\n",
      "opinion_h1n1_sick_from_vacc_3.0\n",
      "opinion_h1n1_sick_from_vacc_4.0\n",
      "opinion_h1n1_sick_from_vacc_5.0\n",
      "opinion_h1n1_sick_from_vacc_nan\n",
      "opinion_seas_vacc_effective_2.0\n",
      "opinion_seas_vacc_effective_3.0\n",
      "opinion_seas_vacc_effective_4.0\n",
      "opinion_seas_vacc_effective_5.0\n",
      "opinion_seas_vacc_effective_nan\n",
      "opinion_seas_risk_2.0\n",
      "opinion_seas_risk_3.0\n",
      "opinion_seas_risk_4.0\n",
      "opinion_seas_risk_5.0\n",
      "opinion_seas_risk_nan\n",
      "opinion_seas_sick_from_vacc_2.0\n",
      "opinion_seas_sick_from_vacc_3.0\n",
      "opinion_seas_sick_from_vacc_4.0\n",
      "opinion_seas_sick_from_vacc_5.0\n",
      "opinion_seas_sick_from_vacc_nan\n",
      "age_group_35 - 44 Years\n",
      "age_group_45 - 54 Years\n",
      "age_group_55 - 64 Years\n",
      "age_group_65+ Years\n",
      "education_< 12 Years\n",
      "education_College Graduate\n",
      "education_Some College\n",
      "education_nan\n",
      "race_Hispanic\n",
      "race_Other or Multiple\n",
      "race_White\n",
      "sex_Male\n",
      "income_poverty_> $75,000\n",
      "income_poverty_Below Poverty\n",
      "income_poverty_nan\n",
      "marital_status_Not Married\n",
      "marital_status_nan\n",
      "rent_or_own_Rent\n",
      "rent_or_own_nan\n",
      "employment_status_Not in Labor Force\n",
      "employment_status_Unemployed\n",
      "employment_status_nan\n",
      "hhs_geo_region_bhuqouqj\n",
      "hhs_geo_region_dqpwygqj\n",
      "hhs_geo_region_fpwskwrf\n",
      "hhs_geo_region_kbazzjca\n",
      "hhs_geo_region_lrircsnp\n",
      "hhs_geo_region_lzgpxyit\n",
      "hhs_geo_region_mlyzmhmf\n",
      "hhs_geo_region_oxchjgsf\n",
      "hhs_geo_region_qufhixun\n",
      "census_msa_MSA, Principle City\n",
      "census_msa_Non-MSA\n",
      "household_adults_1.0\n",
      "household_adults_2.0\n",
      "household_adults_3.0\n",
      "household_adults_nan\n",
      "household_children_1.0\n",
      "household_children_2.0\n",
      "household_children_3.0\n",
      "household_children_nan\n",
      "employment_industry_atmlpfrs\n",
      "employment_industry_cfqqtusy\n",
      "employment_industry_dotnnunm\n",
      "employment_industry_fcxhlnwr\n",
      "employment_industry_haxffmxo\n",
      "employment_industry_ldnlellj\n",
      "employment_industry_mcubkhph\n",
      "employment_industry_mfikgejo\n",
      "employment_industry_msuufmds\n",
      "employment_industry_nduyfdeo\n",
      "employment_industry_phxvnwax\n",
      "employment_industry_pxcmvdjn\n",
      "employment_industry_qnlwzans\n",
      "employment_industry_rucpziij\n",
      "employment_industry_saaquncn\n",
      "employment_industry_vjjrobsf\n",
      "employment_industry_wlfvacwt\n",
      "employment_industry_wxleyezf\n",
      "employment_industry_xicduogh\n",
      "employment_industry_xqicxuve\n",
      "employment_industry_nan\n",
      "employment_occupation_ccgxvspp\n",
      "employment_occupation_cmhcxjea\n",
      "employment_occupation_dcjcmpih\n",
      "employment_occupation_dlvbwzss\n",
      "employment_occupation_emcorrxb\n",
      "employment_occupation_haliazsg\n",
      "employment_occupation_hfxkjkmi\n",
      "employment_occupation_hodpvpew\n",
      "employment_occupation_kldqjyjy\n",
      "employment_occupation_mxkfnird\n",
      "employment_occupation_oijqvulv\n",
      "employment_occupation_pvmttkik\n",
      "employment_occupation_qxajmpny\n",
      "employment_occupation_rcertsgn\n",
      "employment_occupation_tfqavkke\n",
      "employment_occupation_ukymxvdu\n",
      "employment_occupation_uqqtjvyb\n",
      "employment_occupation_vlluhbov\n",
      "employment_occupation_xgwztkwe\n",
      "employment_occupation_xqwwgdyp\n",
      "employment_occupation_xtkaffoo\n",
      "employment_occupation_xzmlyyjv\n",
      "employment_occupation_nan\n"
     ]
    }
   ],
   "source": [
    "for col in X_train_ohe_df.columns:\n",
    "    print(col)"
   ]
  },
  {
   "cell_type": "code",
   "execution_count": null,
   "id": "fa584592",
   "metadata": {},
   "outputs": [],
   "source": []
  }
 ],
 "metadata": {
  "kernelspec": {
   "display_name": "Python (learn-env)",
   "language": "python",
   "name": "learn-env"
  },
  "language_info": {
   "codemirror_mode": {
    "name": "ipython",
    "version": 3
   },
   "file_extension": ".py",
   "mimetype": "text/x-python",
   "name": "python",
   "nbconvert_exporter": "python",
   "pygments_lexer": "ipython3",
   "version": "3.9.7"
  }
 },
 "nbformat": 4,
 "nbformat_minor": 5
}
